{
  "nbformat": 4,
  "nbformat_minor": 0,
  "metadata": {
    "colab": {
      "provenance": []
    },
    "kernelspec": {
      "name": "python3",
      "display_name": "Python 3"
    },
    "language_info": {
      "name": "python"
    }
  },
  "cells": [
    {
      "cell_type": "code",
      "execution_count": 1,
      "metadata": {
        "id": "AstzBLLELYvy"
      },
      "outputs": [],
      "source": [
        "import numpy as np\n",
        "import unittest"
      ]
    },
    {
      "cell_type": "code",
      "source": [
        "class QuantumStatePreparation:\n",
        "    def normalize_amplitudes(amplitudes):\n",
        "        \"\"\"Normalize complex amplitudes to unit norm.\"\"\"\n",
        "        amplitudes = np.array(amplitudes, dtype=complex)\n",
        "        norm = np.linalg.norm(amplitudes)\n",
        "\n",
        "        if norm == 0:\n",
        "            raise ValueError(\"Zero vector!!\")\n",
        "\n",
        "        return amplitudes / norm\n",
        "\n",
        "    def prepare_two_qubit_state(amplitudes):\n",
        "        if len(amplitudes) != 4:\n",
        "            raise ValueError(f\"Expected 4 amplitudes, got {len(amplitudes)}\")\n",
        "\n",
        "        return QuantumStatePreparation.normalize_amplitudes(amplitudes)\n",
        "\n",
        "    def prepare_three_qubit_state(amplitudes):\n",
        "        # Stretch Goal\n",
        "        if len(amplitudes) != 8:\n",
        "            raise ValueError(f\"Expected 8 amplitudes, got {len(amplitudes)}\")\n",
        "\n",
        "        return QuantumStatePreparation.normalize_amplitudes(amplitudes)\n",
        "\n",
        "    def verify_normalization(state_vector, tolerance=1e-10):\n",
        "        norm_squared = np.sum(np.abs(state_vector)**2)\n",
        "        return np.abs(norm_squared - 1.0) < tolerance\n"
      ],
      "metadata": {
        "id": "pa2Deu7ALliw"
      },
      "execution_count": 2,
      "outputs": []
    },
    {
      "cell_type": "code",
      "source": [
        "amps_1 = [1+1j, 1-1j, 1, 0+2j]\n",
        "state_1 = QuantumStatePreparation.prepare_two_qubit_state(amps_1)\n",
        "print(\"Two-qubit:\")\n",
        "print(f\"Input: {amps_1}\")\n",
        "print(f\"Normalized state: {state_1}\")\n",
        "print(f\"Normalized: {QuantumStatePreparation.verify_normalization(state_1)}\\n\")\n"
      ],
      "metadata": {
        "colab": {
          "base_uri": "https://localhost:8080/"
        },
        "id": "hBfCYz5VLlgH",
        "outputId": "83a90149-0181-42c1-d414-3f320844a2be"
      },
      "execution_count": 3,
      "outputs": [
        {
          "output_type": "stream",
          "name": "stdout",
          "text": [
            "Two-qubit:\n",
            "Input: [(1+1j), (1-1j), 1, 2j]\n",
            "Normalized state: [0.33333333+0.33333333j 0.33333333-0.33333333j 0.33333333+0.j\n",
            " 0.        +0.66666667j]\n",
            "Normalized: True\n",
            "\n"
          ]
        }
      ]
    },
    {
      "cell_type": "code",
      "source": [
        "amps_2 = [1+1j, 1-1j, 1, 0+2j, 2+1j, 2-2j, 1, 0+1j]\n",
        "state_2 = QuantumStatePreparation.prepare_three_qubit_state(amps_2)\n",
        "print(\"Three-qubit:\")\n",
        "print(f\"Input: {amps_2}\")\n",
        "print(f\"Normalized state: {state_2}\")\n",
        "print(f\"Normalized: {QuantumStatePreparation.verify_normalization(state_2)}\\n\")"
      ],
      "metadata": {
        "colab": {
          "base_uri": "https://localhost:8080/"
        },
        "id": "9NglehWhLlV8",
        "outputId": "71d740f3-11a3-49ef-8af4-2f64ab1466c0"
      },
      "execution_count": 4,
      "outputs": [
        {
          "output_type": "stream",
          "name": "stdout",
          "text": [
            "Three-qubit:\n",
            "Input: [(1+1j), (1-1j), 1, 2j, (2+1j), (2-2j), 1, 1j]\n",
            "Normalized state: [0.20412415+0.20412415j 0.20412415-0.20412415j 0.20412415+0.j\n",
            " 0.        +0.40824829j 0.40824829+0.20412415j 0.40824829-0.40824829j\n",
            " 0.20412415+0.j         0.        +0.20412415j]\n",
            "Normalized: True\n",
            "\n"
          ]
        }
      ]
    },
    {
      "cell_type": "code",
      "source": [
        "class TestQuantumStatePreparation(unittest.TestCase):\n",
        "\n",
        "    def test_normalization_enforced(self):\n",
        "        \"\"\"Test normalization\"\"\"\n",
        "        amplitudes = [1, 1, 1, 1]\n",
        "        state = QuantumStatePreparation.prepare_two_qubit_state(amplitudes)\n",
        "\n",
        "        self.assertTrue(\n",
        "            QuantumStatePreparation.verify_normalization(state),\n",
        "            \"State should be normalized\"\n",
        "        )\n",
        "\n",
        "    def test_output_dimension(self):\n",
        "        \"\"\"Test dimension.\"\"\"\n",
        "        amplitudes = [1, 0, 0, 0]\n",
        "        state = QuantumStatePreparation.prepare_two_qubit_state(amplitudes)\n",
        "\n",
        "        self.assertEqual(len(state), 4, \"Two-qubit state should have dimension 4\")\n",
        "\n",
        "    def test_complex_amplitudes(self):\n",
        "        \"\"\"Test complex amplitudes.\"\"\"\n",
        "        amplitudes = [1+1j, 1-1j, 0, 0]\n",
        "        state = QuantumStatePreparation.prepare_two_qubit_state(amplitudes)\n",
        "\n",
        "        self.assertTrue(QuantumStatePreparation.verify_normalization(state))\n",
        "        self.assertEqual(len(state), 4)\n",
        "\n",
        "    def test_already_normalized(self):\n",
        "        \"\"\"Test already normalized input.\"\"\"\n",
        "        amplitudes = [1, 0, 0, 0]\n",
        "        state = QuantumStatePreparation.prepare_two_qubit_state(amplitudes)\n",
        "\n",
        "        np.testing.assert_array_almost_equal(state, amplitudes)\n",
        "\n",
        "    def test_zero_vector_raises_error(self):\n",
        "        \"\"\"Test zero vector.\"\"\"\n",
        "        amplitudes = [0, 0, 0, 0]\n",
        "\n",
        "        with self.assertRaises(ValueError):\n",
        "            QuantumStatePreparation.prepare_two_qubit_state(amplitudes)\n",
        "\n",
        "    def test_wrong_number_amplitudes(self):\n",
        "        \"\"\"Test for incorrect number of amplitudes.\"\"\"\n",
        "        amplitudes = [1, 0, 0]\n",
        "\n",
        "        with self.assertRaises(ValueError):\n",
        "            QuantumStatePreparation.prepare_two_qubit_state(amplitudes)\n",
        "\n",
        "    def test_three_qubit_state(self):\n",
        "        \"\"\"Test three-qubit state preparation.\"\"\"\n",
        "        amplitudes = [1, 0, 0, 0, 0, 0, 0, 0]\n",
        "        state = QuantumStatePreparation.prepare_three_qubit_state(amplitudes)\n",
        "\n",
        "        self.assertEqual(len(state), 8, \"Three-qubit state should have dimension 8\")\n",
        "        self.assertTrue(QuantumStatePreparation.verify_normalization(state))"
      ],
      "metadata": {
        "id": "uAsXMA_HLlTB"
      },
      "execution_count": 5,
      "outputs": []
    },
    {
      "cell_type": "code",
      "source": [
        "print(\"=== Running Unit Tests ===\\n\")\n",
        "unittest.main(argv=[''], exit=False, verbosity=2)"
      ],
      "metadata": {
        "colab": {
          "base_uri": "https://localhost:8080/"
        },
        "id": "gnyIz7SgLlQV",
        "outputId": "abe0e906-5698-41c0-882d-be966f444e0a"
      },
      "execution_count": 6,
      "outputs": [
        {
          "output_type": "stream",
          "name": "stderr",
          "text": [
            "test_already_normalized (__main__.TestQuantumStatePreparation.test_already_normalized)\n",
            "Test already normalized input. ... ok\n",
            "test_complex_amplitudes (__main__.TestQuantumStatePreparation.test_complex_amplitudes)\n",
            "Test complex amplitudes. ... ok\n",
            "test_normalization_enforced (__main__.TestQuantumStatePreparation.test_normalization_enforced)\n",
            "Test normalization ... ok\n",
            "test_output_dimension (__main__.TestQuantumStatePreparation.test_output_dimension)\n",
            "Test dimension. ... ok\n",
            "test_three_qubit_state (__main__.TestQuantumStatePreparation.test_three_qubit_state)\n",
            "Test three-qubit state preparation. ... ok\n",
            "test_wrong_number_amplitudes (__main__.TestQuantumStatePreparation.test_wrong_number_amplitudes)\n",
            "Test for incorrect number of amplitudes. ... ok\n",
            "test_zero_vector_raises_error (__main__.TestQuantumStatePreparation.test_zero_vector_raises_error)\n",
            "Test zero vector. ... ok\n",
            "\n",
            "----------------------------------------------------------------------\n",
            "Ran 7 tests in 0.027s\n",
            "\n",
            "OK\n"
          ]
        },
        {
          "output_type": "stream",
          "name": "stdout",
          "text": [
            "=== Running Unit Tests ===\n",
            "\n"
          ]
        },
        {
          "output_type": "execute_result",
          "data": {
            "text/plain": [
              "<unittest.main.TestProgram at 0x7a2fd306c710>"
            ]
          },
          "metadata": {},
          "execution_count": 6
        }
      ]
    },
    {
      "cell_type": "code",
      "source": [],
      "metadata": {
        "id": "BSUZ9akYLlNq"
      },
      "execution_count": 6,
      "outputs": []
    },
    {
      "cell_type": "code",
      "source": [],
      "metadata": {
        "id": "E9ekDy9jLlLM"
      },
      "execution_count": 6,
      "outputs": []
    },
    {
      "cell_type": "code",
      "source": [],
      "metadata": {
        "id": "B1m6sa2TLlIg"
      },
      "execution_count": 6,
      "outputs": []
    }
  ]
}